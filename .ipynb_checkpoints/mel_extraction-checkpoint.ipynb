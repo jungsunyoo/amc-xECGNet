{
 "cells": [
  {
   "cell_type": "code",
   "execution_count": null,
   "metadata": {},
   "outputs": [],
   "source": [
    "import librosa\n",
    "import librosa.display\n",
    "import os\n",
    "from scipy.io import loadmat\n",
    "import numpy as np\n",
    "import matplotlib.pyplot as plt\n",
    "from datetime import datetime"
   ]
  },
  {
   "cell_type": "code",
   "execution_count": null,
   "metadata": {},
   "outputs": [],
   "source": [
    "#currdir= os.getcwd()\n",
    "rootdir = '/home/taejoon/PhysioNetChallenge'\n",
    "input_directory = os.path.join(rootdir, 'Training_WFDB')\n",
    "# output_directory = os.path.join(rootdir, 'Mel_data')\n",
    "date = datetime.today().strftime(\"%Y%m%d\")\n",
    "#save_directory = os.path.join(currdir, '')\n",
    "outname = 'Mel_data_' + date + '_melbin128_window1024'\n",
    "output_directory = os.path.join(rootdir, outname)\n",
    "\n",
    "if not os.path.isdir(input_directory):\n",
    "        os.mkdir(input_directory)\n",
    "if not os.path.isdir(output_directory):\n",
    "        os.mkdir(output_directory)\n"
   ]
  },
  {
   "cell_type": "code",
   "execution_count": null,
   "metadata": {},
   "outputs": [],
   "source": [
    "output_directory"
   ]
  },
  {
   "cell_type": "code",
   "execution_count": null,
   "metadata": {},
   "outputs": [],
   "source": [
    "# Find files\n",
    "input_files = []\n",
    "for f in os.listdir(input_directory):\n",
    "    if os.path.isfile(os.path.join(input_directory, f)) and not f.lower().startswith('.') and f.lower().endswith('mat'):\n",
    "        input_files.append(f)"
   ]
  },
  {
   "cell_type": "code",
   "execution_count": null,
   "metadata": {},
   "outputs": [],
   "source": [
    "input_files"
   ]
  },
  {
   "cell_type": "code",
   "execution_count": null,
   "metadata": {
    "scrolled": true
   },
   "outputs": [],
   "source": [
    "np.shape(input_files)"
   ]
  },
  {
   "cell_type": "markdown",
   "metadata": {},
   "source": [
    "### Mel Config"
   ]
  },
  {
   "cell_type": "code",
   "execution_count": null,
   "metadata": {},
   "outputs": [],
   "source": [
    "# 원본\n",
    "# sr = 500\n",
    "# fftsize = 1024\n",
    "# window = 1024\n",
    "# hop = 294\n",
    "# melBin = 224\n",
    "\n",
    "# Square 모양 되도록 수정한 버전: \n",
    "\n",
    "sr = 500\n",
    "fftsize = 1024\n",
    "window = 16 # window 디폴트로 \n",
    "hop = 12\n",
    "melBin = 128\n",
    "\n",
    "def Mel(data, sr, fftsize, hop, window, melBin):\n",
    "    # STFT\n",
    "#     S = librosa.core.stft(data, n_fft=fftsize, hop_length=hop, win_length = window)\n",
    "    S = librosa.core.stft(data, n_fft=fftsize, hop_length=hop)\n",
    "    X = np.abs(S)\n",
    "    # Mel basis\n",
    "    mel_basis = librosa.filters.mel(sr, n_fft = fftsize, n_mels = melBin)\n",
    "    # mal basis are multiplied to the STFT\n",
    "    mel_S = np.dot(mel_basis, X)\n",
    "    \n",
    "    # log amplitude compression\n",
    "    mel_S = np.log10(1+10*mel_S)\n",
    "    mel_S = mel_S.astype(np.float32)\n",
    "    \n",
    "    \n",
    "    return mel_S"
   ]
  },
  {
   "cell_type": "code",
   "execution_count": null,
   "metadata": {},
   "outputs": [],
   "source": [
    "# # Fiddling with parameters to make the output image have a certain length\n",
    "# sr = 500\n",
    "# fftsize = 1024\n",
    "# window = fftsize\n",
    "# hop = 12\n",
    "# melBin = 128\n",
    "\n",
    "# #data_test = np.zeros((12, 1500))\n",
    "# sample_file = loadmat(os.path.join(input_directory, input_files[0]))\n",
    "# sample_file = np.asarray(sample_file['val'], dtype=np.float64)\n",
    "# sample_data = sample_file[0,:1500]\n",
    "# # sample_data.shape\n",
    "\n",
    "# S_test = librosa.core.stft(sample_data, n_fft = fftsize, hop_length=hop, win_length = window)\n",
    "# X_test = abs(S_test)\n",
    "# print(X_test.shape)\n",
    "# mel_basis = librosa.filters.mel(sr, n_fft = fftsize, n_mels = melBin)\n",
    "# print(mel_basis.shape)\n",
    "# mel_S = np.dot(mel_basis, X_test)\n",
    "# mel_S.shape\n",
    "# plt.imshow(mel_S)\n",
    "# mel_S.shape\n",
    "\n",
    "# mel_S[-1,-1]"
   ]
  },
  {
   "cell_type": "code",
   "execution_count": null,
   "metadata": {},
   "outputs": [],
   "source": [
    "# mel_S = np.log10(1+10*mel_S)\n",
    "# mel_S = mel_S.astype(np.float32)\n",
    "# plt.imshow(mel_S)"
   ]
  },
  {
   "cell_type": "code",
   "execution_count": null,
   "metadata": {},
   "outputs": [],
   "source": [
    "def get_12ECG_features(header_data):\n",
    "    tmp_hea = header_data[0].split(' ')\n",
    "    ptID = tmp_hea[0]\n",
    "    num_leads = int(tmp_hea[1])\n",
    "    sample_Fs= int(tmp_hea[2])\n",
    "    gain_lead = np.zeros(num_leads)\n",
    "    for ii in range(num_leads):\n",
    "        tmp_hea = header_data[ii+1].split(' ') # +1인 이유는 첫 행을 빼야하니\n",
    "        gain_lead[ii] = int(tmp_hea[2].split('/')[0]) # 아마도 모든 행을 1000mV로 채울듯\n",
    "\n",
    "    for iline in header_data:\n",
    "        if iline.startswith('#Age'):\n",
    "            tmp_age = iline.split(': ')[1].strip()\n",
    "            age = int(tmp_age if tmp_age != 'NaN' else 57)\n",
    "        elif iline.startswith('#Sex'):\n",
    "            tmp_sex = iline.split(': ')[1]\n",
    "            if tmp_sex.strip()=='Female':\n",
    "                sex =1\n",
    "            else:\n",
    "                sex=0\n",
    "        elif iline.startswith('#Dx'):\n",
    "            label = iline.split(': ')[1].split(',')[0]\n",
    "    return ptID, num_leads, sample_Fs, gain_lead, age, sex, label"
   ]
  },
  {
   "cell_type": "code",
   "execution_count": null,
   "metadata": {},
   "outputs": [],
   "source": [
    "# input_dir = '/home/taejoon/PhysioNetChallenge/Mel_data_20200402_128'\n",
    "# file = 'A0001.npy'\n",
    "# a = np.load(input_dir + '/' + file.replace('.mat', '.npy'))\n",
    "# im = a[:128,:,3]\n",
    "# plt.imshow(im)\n",
    "# im.shape\n",
    "# # file2 = 'A0010.npy'\n",
    "# # b= np.load(input_dir + '/' + file2.replace('.mat', '.npy'))\n",
    "# # plt.imshow(b[2])\n",
    "# # b[2].shape"
   ]
  },
  {
   "cell_type": "code",
   "execution_count": null,
   "metadata": {
    "scrolled": true
   },
   "outputs": [],
   "source": [
    "for i in range(len(input_files)): # loops over subjects\n",
    "    filename = os.path.join(input_directory, input_files[i])\n",
    "    x = loadmat(filename)\n",
    "    data = np.asarray(x['val'], dtype=np.float64)\n",
    "    new_file = filename.replace('.mat', '.hea')\n",
    "    input_header_file = os.path.join(new_file)\n",
    "    save_name = output_directory + '/' + input_files[i].replace('.mat', '.npy') #filename.replace('.mat', '.npy')\n",
    "    if not os.path.exists(os.path.dirname(save_name)):\n",
    "        os.makedirs(os.path.dirname(save_name))\n",
    "\n",
    "    with open(input_header_file,'r') as f:\n",
    "        header_data=f.readlines()\n",
    "    ptID, num_leads, sample_Fs, gain_lead, age, sex, label = get_12ECG_features(header_data)\n",
    "\n",
    "    S = []\n",
    "    for j in range(data.shape[0]): # loops over 12 leads\n",
    "        tmp_lead = data[j]\n",
    "        S1 = Mel(tmp_lead, sr, fftsize, hop, window, melBin)\n",
    "        S1 = list(S1)\n",
    "        S.append(S1)\n",
    "    S = np.swapaxes(S, 0, 2)\n",
    "    print(new_file, S.shape, save_name)\n",
    "    np.save(save_name, S)"
   ]
  },
  {
   "cell_type": "code",
   "execution_count": null,
   "metadata": {},
   "outputs": [],
   "source": [
    "save_name = results_directory + '/' + input_files[i].replace('.mat', '.npy') #filename.replace('.mat', '.npy')\n",
    "np.save(save_name, S)"
   ]
  },
  {
   "cell_type": "code",
   "execution_count": null,
   "metadata": {},
   "outputs": [],
   "source": [
    "S.max()"
   ]
  },
  {
   "cell_type": "code",
   "execution_count": null,
   "metadata": {},
   "outputs": [],
   "source": [
    "S.min()"
   ]
  },
  {
   "cell_type": "code",
   "execution_count": null,
   "metadata": {},
   "outputs": [],
   "source": [
    "S.shape"
   ]
  },
  {
   "cell_type": "code",
   "execution_count": null,
   "metadata": {},
   "outputs": [],
   "source": [
    "S"
   ]
  }
 ],
 "metadata": {
  "kernelspec": {
   "display_name": "Python 3",
   "language": "python",
   "name": "python3"
  },
  "language_info": {
   "codemirror_mode": {
    "name": "ipython",
    "version": 3
   },
   "file_extension": ".py",
   "mimetype": "text/x-python",
   "name": "python",
   "nbconvert_exporter": "python",
   "pygments_lexer": "ipython3",
   "version": "3.6.9"
  },
  "varInspector": {
   "cols": {
    "lenName": 16,
    "lenType": 16,
    "lenVar": 40
   },
   "kernels_config": {
    "python": {
     "delete_cmd_postfix": "",
     "delete_cmd_prefix": "del ",
     "library": "var_list.py",
     "varRefreshCmd": "print(var_dic_list())"
    },
    "r": {
     "delete_cmd_postfix": ") ",
     "delete_cmd_prefix": "rm(",
     "library": "var_list.r",
     "varRefreshCmd": "cat(var_dic_list()) "
    }
   },
   "position": {
    "height": "321px",
    "left": "1605px",
    "right": "20px",
    "top": "133px",
    "width": "248px"
   },
   "types_to_exclude": [
    "module",
    "function",
    "builtin_function_or_method",
    "instance",
    "_Feature"
   ],
   "window_display": true
  }
 },
 "nbformat": 4,
 "nbformat_minor": 2
}
